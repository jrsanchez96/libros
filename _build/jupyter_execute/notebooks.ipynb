{
 "cells": [
  {
   "cell_type": "markdown",
   "metadata": {},
   "source": [
    "# Programacion usada en IA\n",
    "\n",
    "La IA nace a través de lenguajes de programación cuyas características están especialmente diseñadas\n",
    "para poder desarrollar este tipo de inteligencia.\n",
    "Su objetivo es poder recabar por sí mismo una serie de información o datos sobre algo concreto, \n",
    "y ofrecer respuestas y/o soluciones a problemas y necesidades reales\n",
    "\n",
    "## ¿Qué relación tiene la inteligencia con la programación?\n",
    "\n",
    "![](https://www3.gobiernodecanarias.org/medusa/ecoescuela/recursosdigitales/files/formidable/recurso-3-132-200x200.jpg)\n",
    "\n",
    "Lo primero a tener en cuenta es que $la Inteligencia Artificial no es más que un software o modelo de programación, \n",
    "que analiza patrones de conducta a través de la interacción de los usuarios$, determinando conclusiones que ofrecen \n",
    "información útil sobre el interés del mismo.\n",
    "\n",
    "Es decir, la $IA nace de la programación$, ya que de ella se establece un almacenamiento y análisis de datos. \n",
    "Una vez que los datos han sido analizados, se especifican los patrones y se establece una conclusión con base en ello, \n",
    "para desarrollar así nuevos planes de acción que satisfagan una necesidad \n",
    "\n",
    "\n",
    "## ¿Qué hace un programador de inteligencia artificial?\n",
    "\n",
    "El propósito de un programador de inteligencia artificial es hacer de los dispositivos informáticos un producto, \n",
    "por así decirlo, pensante e independiente. En este proceso, se utiliza uno o varios lenguajes de programación \n",
    "dedicados a la IA, para así desarrollar un proyecto eficiente y completo.\n",
    "\n",
    "Normalmente, los dispositivos informáticos se especializan en una tarea en concreto, para así mejorar su eficiencia\n",
    " al momento de ejecutar acciones. Sin embargo, también puede funcionar como un dispositivo multitarea o multifuncional,\n",
    " a poder realizar diferentes tareas en un mismo dispositivo.\n",
    "\n",
    "$Un ejemplo claro de esto último es un teléfono inteligente, capaz de realizar muchas tareas en uno$. \n",
    "Y un ejemplo de un software que desarrolle una única IA, puede ser una herramienta de análisis de datos, \n",
    "que se especializa en recabar información para determinar patrones de conducta.\n",
    "\n",
    "## Ejemplos de Codigo\n"
   ]
  },
  {
   "cell_type": "code",
   "execution_count": 1,
   "metadata": {},
   "outputs": [
    {
     "ename": "SyntaxError",
     "evalue": "invalid syntax (3721177891.py, line 2)",
     "output_type": "error",
     "traceback": [
      "\u001b[1;36m  Cell \u001b[1;32mIn[1], line 2\u001b[1;36m\u001b[0m\n\u001b[1;33m    Agente racional de tipo reactivo simple.\u001b[0m\n\u001b[1;37m           ^\u001b[0m\n\u001b[1;31mSyntaxError\u001b[0m\u001b[1;31m:\u001b[0m invalid syntax\n"
     ]
    }
   ],
   "source": [
    "class AgenteReactivoSimple:\n",
    "    Agente racional de tipo reactivo simple.\n",
    "\n",
    "    def __init__(self, reglas):\n",
    "        self.reglas = reglas\n",
    "\n",
    "    def actuar(self, percepcion, accion_basica=):\n",
    "        Actua según la percepción, devolviendo una acción.\n",
    "        if not percepcion:\n",
    "            return accion_basica\n",
    "        if percepcion in self.reglas.keys():\n",
    "            return self.reglas[percepcion]\n",
    "        return accion_basica"
   ]
  },
  {
   "cell_type": "code",
   "execution_count": null,
   "metadata": {},
   "outputs": [],
   "source": [
    "def __init__(self, modelo, reglas, estado_inicial=, accion_inicial=):\n",
    "    Crea una nueva instancia de la clase.\n",
    "    self.modelo = modelo\n",
    "    self.reglas = reglas\n",
    "    self.estado_inicial = estado_inicial\n",
    "    self.accion_inicial = accion_inicial\n",
    "    self.accion = None\n",
    "    self.estado = self.estado_inicial\n",
    "    self.ult_accion = self.accion_inicial\n"
   ]
  },
  {
   "cell_type": "markdown",
   "metadata": {},
   "source": [
    "Estos son unos ejemplos de codigo fuentes usado en inteligencia artificial\n"
   ]
  }
 ],
 "metadata": {
  "kernelspec": {
   "display_name": "Python 3",
   "language": "python",
   "name": "python3"
  },
  "language_info": {
   "codemirror_mode": {
    "name": "ipython",
    "version": 3
   },
   "file_extension": ".py",
   "mimetype": "text/x-python",
   "name": "python",
   "nbconvert_exporter": "python",
   "pygments_lexer": "ipython3",
   "version": "3.12.0"
  },
  "widgets": {
   "application/vnd.jupyter.widget-state+json": {
    "state": {},
    "version_major": 2,
    "version_minor": 0
   }
  }
 },
 "nbformat": 4,
 "nbformat_minor": 4
}